{
 "cells": [
  {
   "cell_type": "markdown",
   "metadata": {},
   "source": [
    "# Requirements:\n",
    "As I was learning some new Chinese words using Anki, there is a need to convert text to specific format that can be imported into Anki.\n",
    "For example, the original text like this:\n",
    "```\n",
    "汪疑界:\n",
    "赘婿\n",
    "\n",
    "汪疑界:\n",
    "炙热\n",
    "汗涔涔\n",
    "\n",
    "...\n",
    "```\n",
    "As the format of Anki's text import, the texts start with `*` represent the question or the front of an Anki card, and texts start with `**` represent the answer or the behind of an Anki card. Also, considering my personal requirement, I would always set the phonetic in the front of a card and learn the writing of the word. Therefore, the text should be like this:\n",
    "```\n",
    "*word1's phonetic\n",
    "**word1's writing\n",
    "word1's explanation\n",
    "word1's sentences\n",
    "\n",
    "*word2's phonetic\n",
    "**word2's writing\n",
    "word2's explanation\n",
    "word2's sentences\n",
    "\n",
    "...\n",
    "```\n"
   ]
  },
  {
   "cell_type": "code",
   "execution_count": 9,
   "metadata": {},
   "outputs": [
    {
     "name": "stdout",
     "output_type": "stream",
     "text": [
      "*zhuì xù\n",
      "**赘婿\n",
      "释义：\n",
      "\n",
      "例句：\n",
      "\n",
      "*zhì rè\n",
      "**炙热\n",
      "释义：\n",
      "\n",
      "例句：\n",
      "\n",
      "*hàn cén cén\n",
      "**汗涔涔\n",
      "释义：\n",
      "\n",
      "例句：\n",
      "\n"
     ]
    }
   ],
   "source": [
    "import re\n",
    "from pypinyin import pinyin, Style\n",
    "\n",
    "def convert_to_anki_format(input_text):\n",
    "    # Split the input text into individual word entries\n",
    "    entries = re.split(r'\\n\\n+', input_text.strip())\n",
    "    \n",
    "    anki_formatted = []\n",
    "    \n",
    "    for entry in entries:\n",
    "        lines = entry.split('\\n')\n",
    "        if len(lines) < 2:\n",
    "            continue  # Skip entries with insufficient information\n",
    "        \n",
    "        word = lines[1].strip()  # The Chinese word is on the second line\n",
    "        \n",
    "        # Generate pinyin for the word\n",
    "        word_pinyin = ' '.join([p[0] for p in pinyin(word, style=Style.TONE)])\n",
    "        \n",
    "        # Format the entry for Anki\n",
    "        anki_entry = f\"*{word_pinyin}\\n**{word}\\n\"\n",
    "        \n",
    "        # Add explanation and sentences if available\n",
    "        \n",
    "        explanation = \"释义：\\n\"\n",
    "        sentences = \"例句：\\n\"\n",
    "        anki_entry += f\"{explanation}\\n{sentences}\"\n",
    "        \n",
    "        anki_formatted.append(anki_entry)\n",
    "    \n",
    "    return '\\n'.join(anki_formatted)\n",
    "\n",
    "# Example usage\n",
    "input_text = \"\"\"\n",
    "汪疑界:\n",
    "赘婿\n",
    "\n",
    "汪疑界:\n",
    "炙热\n",
    "\n",
    "汪疑界:\n",
    "汗涔涔\n",
    "\n",
    "\"\"\"\n",
    "\n",
    "result = convert_to_anki_format(input_text)\n",
    "print(result)"
   ]
  }
 ],
 "metadata": {
  "kernelspec": {
   "display_name": "Python 3",
   "language": "python",
   "name": "python3"
  },
  "language_info": {
   "codemirror_mode": {
    "name": "ipython",
    "version": 3
   },
   "file_extension": ".py",
   "mimetype": "text/x-python",
   "name": "python",
   "nbconvert_exporter": "python",
   "pygments_lexer": "ipython3",
   "version": "3.12.2"
  }
 },
 "nbformat": 4,
 "nbformat_minor": 2
}
